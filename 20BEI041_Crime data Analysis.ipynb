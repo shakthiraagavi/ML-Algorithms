{
 "cells": [
  {
   "cell_type": "code",
   "execution_count": 1,
   "id": "a8b31e2e",
   "metadata": {},
   "outputs": [
    {
     "name": "stdout",
     "output_type": "stream",
     "text": [
      "Requirement already satisfied: plotly in d:\\anaconda3\\lib\\site-packages (5.4.0)\n",
      "Requirement already satisfied: six in d:\\anaconda3\\lib\\site-packages (from plotly) (1.15.0)\n",
      "Requirement already satisfied: tenacity>=6.2.0 in d:\\anaconda3\\lib\\site-packages (from plotly) (8.0.1)\n",
      "Note: you may need to restart the kernel to use updated packages.\n"
     ]
    }
   ],
   "source": [
    "pip install plotly"
   ]
  },
  {
   "cell_type": "code",
   "execution_count": 2,
   "id": "a5628aac",
   "metadata": {},
   "outputs": [],
   "source": [
    "import pandas as pd\n",
    "import numpy as np\n",
    "from matplotlib import pyplot as plt"
   ]
  },
  {
   "cell_type": "code",
   "execution_count": 3,
   "id": "a0535b06",
   "metadata": {},
   "outputs": [
    {
     "data": {
      "text/html": [
       "<div>\n",
       "<style scoped>\n",
       "    .dataframe tbody tr th:only-of-type {\n",
       "        vertical-align: middle;\n",
       "    }\n",
       "\n",
       "    .dataframe tbody tr th {\n",
       "        vertical-align: top;\n",
       "    }\n",
       "\n",
       "    .dataframe thead th {\n",
       "        text-align: right;\n",
       "    }\n",
       "</style>\n",
       "<table border=\"1\" class=\"dataframe\">\n",
       "  <thead>\n",
       "    <tr style=\"text-align: right;\">\n",
       "      <th></th>\n",
       "      <th>Date</th>\n",
       "      <th>Latitude</th>\n",
       "      <th>Longitude</th>\n",
       "      <th>Magnitude</th>\n",
       "    </tr>\n",
       "  </thead>\n",
       "  <tbody>\n",
       "    <tr>\n",
       "      <th>0</th>\n",
       "      <td>2017-02-06T20:11:14.000Z</td>\n",
       "      <td>38.894376</td>\n",
       "      <td>-76.997556</td>\n",
       "      <td>4</td>\n",
       "    </tr>\n",
       "    <tr>\n",
       "      <th>1</th>\n",
       "      <td>2017-06-03T12:54:27.000Z</td>\n",
       "      <td>38.906838</td>\n",
       "      <td>-77.058661</td>\n",
       "      <td>6</td>\n",
       "    </tr>\n",
       "    <tr>\n",
       "      <th>2</th>\n",
       "      <td>2017-04-07T00:00:00.000Z</td>\n",
       "      <td>38.960739</td>\n",
       "      <td>-77.018034</td>\n",
       "      <td>16</td>\n",
       "    </tr>\n",
       "    <tr>\n",
       "      <th>3</th>\n",
       "      <td>2017-05-31T11:39:56.000Z</td>\n",
       "      <td>38.905151</td>\n",
       "      <td>-77.063998</td>\n",
       "      <td>4</td>\n",
       "    </tr>\n",
       "    <tr>\n",
       "      <th>4</th>\n",
       "      <td>2017-07-30T00:00:00.000Z</td>\n",
       "      <td>38.949532</td>\n",
       "      <td>-77.020246</td>\n",
       "      <td>16</td>\n",
       "    </tr>\n",
       "    <tr>\n",
       "      <th>...</th>\n",
       "      <td>...</td>\n",
       "      <td>...</td>\n",
       "      <td>...</td>\n",
       "      <td>...</td>\n",
       "    </tr>\n",
       "    <tr>\n",
       "      <th>33111</th>\n",
       "      <td>2017-12-23T17:15:25.000Z</td>\n",
       "      <td>38.918640</td>\n",
       "      <td>-77.031953</td>\n",
       "      <td>4</td>\n",
       "    </tr>\n",
       "    <tr>\n",
       "      <th>33112</th>\n",
       "      <td>2017-12-30T06:13:28.000Z</td>\n",
       "      <td>38.927417</td>\n",
       "      <td>-77.021727</td>\n",
       "      <td>6</td>\n",
       "    </tr>\n",
       "    <tr>\n",
       "      <th>33113</th>\n",
       "      <td>2017-12-30T16:07:46.000Z</td>\n",
       "      <td>38.919739</td>\n",
       "      <td>-77.033395</td>\n",
       "      <td>4</td>\n",
       "    </tr>\n",
       "    <tr>\n",
       "      <th>33114</th>\n",
       "      <td>2017-12-30T22:06:45.000Z</td>\n",
       "      <td>38.937766</td>\n",
       "      <td>-76.974186</td>\n",
       "      <td>4</td>\n",
       "    </tr>\n",
       "    <tr>\n",
       "      <th>33115</th>\n",
       "      <td>2017-06-27T11:50:26.000Z</td>\n",
       "      <td>38.951423</td>\n",
       "      <td>-77.023811</td>\n",
       "      <td>6</td>\n",
       "    </tr>\n",
       "  </tbody>\n",
       "</table>\n",
       "<p>33116 rows × 4 columns</p>\n",
       "</div>"
      ],
      "text/plain": [
       "                           Date   Latitude  Longitude Magnitude\n",
       "0      2017-02-06T20:11:14.000Z  38.894376 -76.997556         4\n",
       "1      2017-06-03T12:54:27.000Z  38.906838 -77.058661         6\n",
       "2      2017-04-07T00:00:00.000Z  38.960739 -77.018034        16\n",
       "3      2017-05-31T11:39:56.000Z  38.905151 -77.063998         4\n",
       "4      2017-07-30T00:00:00.000Z  38.949532 -77.020246        16\n",
       "...                         ...        ...        ...       ...\n",
       "33111  2017-12-23T17:15:25.000Z  38.918640 -77.031953         4\n",
       "33112  2017-12-30T06:13:28.000Z  38.927417 -77.021727         6\n",
       "33113  2017-12-30T16:07:46.000Z  38.919739 -77.033395         4\n",
       "33114  2017-12-30T22:06:45.000Z  38.937766 -76.974186         4\n",
       "33115  2017-06-27T11:50:26.000Z  38.951423 -77.023811         6\n",
       "\n",
       "[33116 rows x 4 columns]"
      ]
     },
     "execution_count": 3,
     "metadata": {},
     "output_type": "execute_result"
    }
   ],
   "source": [
    "data = pd.read_csv(r\"C:\\Users\\DELL\\OneDrive\\Desktop\\crime.csv\")\n",
    "data"
   ]
  },
  {
   "cell_type": "code",
   "execution_count": 13,
   "id": "4c28af64",
   "metadata": {},
   "outputs": [],
   "source": [
    "np.random.seed(42)\n",
    "def euclidean_distance(x1, x2):\n",
    "    return np.sqrt(np.sum((x1 - x2)**2))\n",
    "class KMeans():\n",
    "    def __init__(self, K=5, max_iters=100, plot_steps=False):\n",
    "        self.K = K\n",
    "        self.max_iters = max_iters\n",
    "        self.plot_steps = plot_steps\n",
    "        self.clusters = [[] for _ in range(self.K)]\n",
    "        self.centroids = []\n",
    "    def predict(self, X):\n",
    "        self.X = X\n",
    "        self.n_samples, self.n_features = X.shape\n",
    "        random_sample_idxs = np.random.choice(self.n_samples, self.K, replace=False)\n",
    "        self.centroids = [self.X[idx] for idx in random_sample_idxs]\n",
    "        for _ in range(self.max_iters):\n",
    "            self.clusters = self._create_clusters(self.centroids)\n",
    "            if self.plot_steps:\n",
    "                self.plot()\n",
    "            centroids_old = self.centroids\n",
    "            self.centroids = self._get_centroids(self.clusters)\n",
    "            if self._is_converged(centroids_old, self.centroids):\n",
    "                break\n",
    "            if self.plot_steps:\n",
    "                self.plot()\n",
    "        return self._get_cluster_labels(self.clusters)\n",
    "    def _get_cluster_labels(self, clusters):\n",
    "        labels = np.empty(self.n_samples)\n",
    "        for cluster_idx, cluster in enumerate(clusters):\n",
    "            for sample_index in cluster:\n",
    "                labels[sample_index] = cluster_idx\n",
    "        return labels\n",
    "    def _create_clusters(self, centroids):\n",
    "        clusters = [[] for _ in range(self.K)]\n",
    "        for idx, sample in enumerate(self.X):\n",
    "            centroid_idx = self._closest_centroid(sample, centroids)\n",
    "            clusters[centroid_idx].append(idx)\n",
    "        return clusters\n",
    "    def _closest_centroid(self, sample, centroids):\n",
    "        # distance of the current sample to each centroid\n",
    "        distances = [euclidean_distance(sample, point) for point in centroids]\n",
    "        closest_index = np.argmin(distances)\n",
    "        return closest_index\n",
    "    def _get_centroids(self, clusters):\n",
    "        centroids = np.zeros((self.K, self.n_features))\n",
    "        for cluster_idx, cluster in enumerate(clusters):\n",
    "            cluster_mean = np.mean(self.X[cluster], axis=0)\n",
    "            centroids[cluster_idx] = cluster_mean\n",
    "        return centroids\n",
    "    def _is_converged(self, centroids_old, centroids):\n",
    "        distances = [euclidean_distance(centroids_old[i], centroids[i]) for i in range(self.K)]\n",
    "        return sum(distances) == 0\n",
    "    def plot(self):\n",
    "        fig, ax = plt.subplots(figsize=(12, 8))\n",
    "        for i, index in enumerate(self.clusters):\n",
    "            point = self.X[index].T\n",
    "            ax.scatter(*point)\n",
    "        for point in self.centroids:\n",
    "            ax.scatter(*point, marker=\"x\", color='black', linewidth=2)\n",
    "        plt.show()\n",
    "    def cent(self):\n",
    "        return self.centroids"
   ]
  },
  {
   "cell_type": "code",
   "execution_count": 4,
   "id": "7aad9871",
   "metadata": {},
   "outputs": [
    {
     "data": {
      "text/plain": [
       "array(['4', '6', '16', '12', '8', '10', '2', 'ARSON', '14'], dtype=object)"
      ]
     },
     "execution_count": 4,
     "metadata": {},
     "output_type": "execute_result"
    }
   ],
   "source": [
    "data.Magnitude.unique()"
   ]
  },
  {
   "cell_type": "code",
   "execution_count": 5,
   "id": "b675698a",
   "metadata": {},
   "outputs": [
    {
     "data": {
      "text/plain": [
       "Text(0, 0.5, 'Longitude')"
      ]
     },
     "execution_count": 5,
     "metadata": {},
     "output_type": "execute_result"
    },
    {
     "data": {
      "image/png": "[encoded data removed]",
      "text/plain": [
       "<Figure size 432x288 with 1 Axes>"
      ]
     },
     "metadata": {
      "needs_background": "light"
     },
     "output_type": "display_data"
    }
   ],
   "source": [
    "plt.scatter(data.Latitude,data.Longitude)\n",
    "plt.xlabel('Latitude')\n",
    "plt.ylabel('Longitude')"
   ]
  },
  {
   "cell_type": "code",
   "execution_count": 6,
   "id": "2de9baaa",
   "metadata": {},
   "outputs": [
    {
     "data": {
      "text/plain": [
       "Date         0\n",
       "Latitude     0\n",
       "Longitude    0\n",
       "Magnitude    0\n",
       "dtype: int64"
      ]
     },
     "execution_count": 6,
     "metadata": {},
     "output_type": "execute_result"
    }
   ],
   "source": [
    "data.isna().sum()"
   ]
  },
  {
   "cell_type": "code",
   "execution_count": 7,
   "id": "8dd52977",
   "metadata": {},
   "outputs": [],
   "source": [
    "X = data[['Latitude', 'Longitude']]\n",
    "X = np.array(X)"
   ]
  },
  {
   "cell_type": "code",
   "execution_count": 8,
   "id": "90c86207",
   "metadata": {},
   "outputs": [],
   "source": [
    "from sklearn.cluster import KMeans\n",
    "import plotly.graph_objects as go"
   ]
  },
  {
   "cell_type": "code",
   "execution_count": 9,
   "id": "eb194c49",
   "metadata": {},
   "outputs": [
    {
     "name": "stderr",
     "output_type": "stream",
     "text": [
      "<ipython-input-9-1d17fcec1927>:11: MatplotlibDeprecationWarning: Adding an axes using the same arguments as a previous axes currently reuses the earlier instance.  In a future version, a new instance will always be created and returned.  Meanwhile, this warning can be suppressed, and the future behavior ensured, by passing a unique label to each axes instance.\n",
      "  axes= plt.axes()\n"
     ]
    },
    {
     "data": {
      "text/plain": [
       "[<matplotlib.lines.Line2D at 0x1cbab23e940>]"
      ]
     },
     "execution_count": 9,
     "metadata": {},
     "output_type": "execute_result"
    },
    {
     "data": {
      "image/png": "[encoded data removed]",
      "text/plain": [
       "<Figure size 432x288 with 1 Axes>"
      ]
     },
     "metadata": {
      "needs_background": "light"
     },
     "output_type": "display_data"
    }
   ],
   "source": [
    "wss = []\n",
    "K = []\n",
    "k_rng = range(1,50)\n",
    "for k in k_rng:\n",
    "    km = KMeans(n_clusters=k)\n",
    "    km.fit(X)\n",
    "    wss.append(km.inertia_)\n",
    "    K.append(k)\n",
    "plt.xlabel('K Values')\n",
    "plt.ylabel('WSS')\n",
    "axes= plt.axes()\n",
    "axes.set_xticks(K)\n",
    "plt.grid()\n",
    "plt.plot(k_rng,wss)"
   ]
  },
  {
   "cell_type": "code",
   "execution_count": 10,
   "id": "862539cc",
   "metadata": {},
   "outputs": [
    {
     "name": "stdout",
     "output_type": "stream",
     "text": [
      "Requirement already satisfied: scikit-learn in d:\\anaconda3\\lib\\site-packages (1.0.1)\n",
      "Requirement already satisfied: threadpoolctl>=2.0.0 in d:\\anaconda3\\lib\\site-packages (from scikit-learn) (2.1.0)\n",
      "Requirement already satisfied: numpy>=1.14.6 in d:\\anaconda3\\lib\\site-packages (from scikit-learn) (1.20.1)\n",
      "Requirement already satisfied: scipy>=1.1.0 in d:\\anaconda3\\lib\\site-packages (from scikit-learn) (1.6.2)\n",
      "Requirement already satisfied: joblib>=0.11 in d:\\anaconda3\\lib\\site-packages (from scikit-learn) (1.0.1)\n",
      "Note: you may need to restart the kernel to use updated packages.\n"
     ]
    }
   ],
   "source": [
    "pip install -U scikit-learn"
   ]
  },
  {
   "cell_type": "code",
   "execution_count": 11,
   "id": "18f8fd86",
   "metadata": {},
   "outputs": [
    {
     "name": "stdout",
     "output_type": "stream",
     "text": [
      "Collecting git+https://github.com/hyperopt/hyperopt-sklearn.git\n",
      "  Cloning https://github.com/hyperopt/hyperopt-sklearn.git to c:\\users\\dell\\appdata\\local\\temp\\pip-req-build-hoat8ux7\n",
      "Requirement already satisfied: hyperopt in d:\\anaconda3\\lib\\site-packages (from hpsklearn==0.0.3) (0.2.7)\n",
      "Requirement already satisfied: nose in d:\\anaconda3\\lib\\site-packages (from hpsklearn==0.0.3) (1.3.7)\n",
      "Requirement already satisfied: numpy in d:\\anaconda3\\lib\\site-packages (from hpsklearn==0.0.3) (1.20.1)\n",
      "Requirement already satisfied: scikit-learn in d:\\anaconda3\\lib\\site-packages (from hpsklearn==0.0.3) (1.0.1)\n",
      "Requirement already satisfied: scipy in d:\\anaconda3\\lib\\site-packages (from hpsklearn==0.0.3) (1.6.2)\n",
      "Requirement already satisfied: networkx>=2.2 in d:\\anaconda3\\lib\\site-packages (from hyperopt->hpsklearn==0.0.3) (2.5)\n",
      "Requirement already satisfied: future in d:\\anaconda3\\lib\\site-packages (from hyperopt->hpsklearn==0.0.3) (0.18.2)\n",
      "Requirement already satisfied: six in d:\\anaconda3\\lib\\site-packages (from hyperopt->hpsklearn==0.0.3) (1.15.0)\n",
      "Requirement already satisfied: py4j in d:\\anaconda3\\lib\\site-packages (from hyperopt->hpsklearn==0.0.3) (0.10.9.3)\n",
      "Requirement already satisfied: tqdm in d:\\anaconda3\\lib\\site-packages (from hyperopt->hpsklearn==0.0.3) (4.59.0)\n",
      "Requirement already satisfied: cloudpickle in d:\\anaconda3\\lib\\site-packages (from hyperopt->hpsklearn==0.0.3) (1.6.0)\n",
      "Requirement already satisfied: decorator>=4.3.0 in d:\\anaconda3\\lib\\site-packages (from networkx>=2.2->hyperopt->hpsklearn==0.0.3) (5.0.6)\n",
      "Requirement already satisfied: threadpoolctl>=2.0.0 in d:\\anaconda3\\lib\\site-packages (from scikit-learn->hpsklearn==0.0.3) (2.1.0)\n",
      "Requirement already satisfied: joblib>=0.11 in d:\\anaconda3\\lib\\site-packages (from scikit-learn->hpsklearn==0.0.3) (1.0.1)\n",
      "Note: you may need to restart the kernel to use updated packages.\n"
     ]
    },
    {
     "name": "stderr",
     "output_type": "stream",
     "text": [
      "  Running command git clone -q https://github.com/hyperopt/hyperopt-sklearn.git 'C:\\Users\\DELL\\AppData\\Local\\Temp\\pip-req-build-hoat8ux7'\n"
     ]
    }
   ],
   "source": [
    "pip install git+https://github.com/hyperopt/hyperopt-sklearn.git"
   ]
  },
  {
   "cell_type": "code",
   "execution_count": 12,
   "id": "5a8b7856",
   "metadata": {},
   "outputs": [
    {
     "ename": "TypeError",
     "evalue": "__init__() got an unexpected keyword argument 'K'",
     "output_type": "error",
     "traceback": [
      "\u001b[1;31m---------------------------------------------------------------------------\u001b[0m",
      "\u001b[1;31mTypeError\u001b[0m                                 Traceback (most recent call last)",
      "\u001b[1;32m<ipython-input-12-f50528df1a41>\u001b[0m in \u001b[0;36m<module>\u001b[1;34m\u001b[0m\n\u001b[1;32m----> 1\u001b[1;33m \u001b[0mk\u001b[0m \u001b[1;33m=\u001b[0m \u001b[0mKMeans\u001b[0m\u001b[1;33m(\u001b[0m\u001b[0mK\u001b[0m\u001b[1;33m=\u001b[0m\u001b[1;36m5\u001b[0m\u001b[1;33m,\u001b[0m \u001b[0mmax_iters\u001b[0m\u001b[1;33m=\u001b[0m\u001b[1;36m150\u001b[0m\u001b[1;33m,\u001b[0m \u001b[0mplot_steps\u001b[0m\u001b[1;33m=\u001b[0m\u001b[1;32mTrue\u001b[0m\u001b[1;33m)\u001b[0m\u001b[1;33m\u001b[0m\u001b[1;33m\u001b[0m\u001b[0m\n\u001b[0m\u001b[0;32m      2\u001b[0m \u001b[0my_pred\u001b[0m \u001b[1;33m=\u001b[0m \u001b[0mk\u001b[0m\u001b[1;33m.\u001b[0m\u001b[0mpredict\u001b[0m\u001b[1;33m(\u001b[0m\u001b[0mX\u001b[0m\u001b[1;33m)\u001b[0m\u001b[1;33m\u001b[0m\u001b[1;33m\u001b[0m\u001b[0m\n\u001b[0;32m      3\u001b[0m \u001b[0mk\u001b[0m\u001b[1;33m.\u001b[0m\u001b[0mplot\u001b[0m\u001b[1;33m(\u001b[0m\u001b[1;33m)\u001b[0m\u001b[1;33m\u001b[0m\u001b[1;33m\u001b[0m\u001b[0m\n",
      "\u001b[1;31mTypeError\u001b[0m: __init__() got an unexpected keyword argument 'K'"
     ]
    }
   ],
   "source": [
    "k = KMeans(K=5, max_iters=150, plot_steps=True)\n",
    "y_pred = k.predict(X)\n",
    "k.plot()"
   ]
  },
  {
   "cell_type": "code",
   "execution_count": null,
   "id": "23c0f017",
   "metadata": {},
   "outputs": [],
   "source": [
    "arr = data.Magnitude.unique()\n",
    "arr = np.delete(arr, 7)\n",
    "arr = arr.astype(int)\n",
    "avg = np.average(arr)\n",
    "avg"
   ]
  },
  {
   "cell_type": "code",
   "execution_count": null,
   "id": "3540fcbf",
   "metadata": {},
   "outputs": [],
   "source": [
    "data.Magnitude = data.Magnitude.replace(to_replace =\"ARSON\",value =\"9\")\n",
    "data.Magnitude.unique()"
   ]
  },
  {
   "cell_type": "code",
   "execution_count": null,
   "id": "2cbd548c",
   "metadata": {},
   "outputs": [],
   "source": [
    "data['Magnitude'] = data['Magnitude'].astype(int)\n",
    "data.Magnitude.unique()"
   ]
  },
  {
   "cell_type": "code",
   "execution_count": null,
   "id": "778f5090",
   "metadata": {},
   "outputs": [],
   "source": [
    "X = data[['Latitude', 'Longitude', 'Magnitude']]\n",
    "X = np.array(X)\n",
    "X"
   ]
  },
  {
   "cell_type": "code",
   "execution_count": null,
   "id": "458643c3",
   "metadata": {},
   "outputs": [],
   "source": [
    "wss = []\n",
    "K = []\n",
    "k_rng = range(1,50)\n",
    "for k in k_rng:\n",
    "    km = KMeans(n_clusters=k)\n",
    "    km.fit(X)\n",
    "    wss.append(km.inertia_)\n",
    "    K.append(k)\n",
    "plt.xlabel('K Values')\n",
    "plt.ylabel('WSS')\n",
    "axes= plt.axes()\n",
    "axes.set_xticks(K)\n",
    "plt.grid()\n",
    "plt.plot(k_rng,wss)"
   ]
  },
  {
   "cell_type": "code",
   "execution_count": null,
   "id": "2981cfe3",
   "metadata": {},
   "outputs": [],
   "source": [
    "k = KMeans(K=5, max_iters=150, plot_steps=True)\n",
    "y_pred = k.predict(X)\n",
    "k.plot()"
   ]
  },
  {
   "cell_type": "code",
   "execution_count": null,
   "id": "592dbe1c",
   "metadata": {},
   "outputs": [],
   "source": []
  }
 ],
 "metadata": {
  "kernelspec": {
   "display_name": "Python 3",
   "language": "python",
   "name": "python3"
  },
  "language_info": {
   "codemirror_mode": {
    "name": "ipython",
    "version": 3
   },
   "file_extension": ".py",
   "mimetype": "text/x-python",
   "name": "python",
   "nbconvert_exporter": "python",
   "pygments_lexer": "ipython3",
   "version": "3.8.8"
  }
 },
 "nbformat": 4,
 "nbformat_minor": 5
}
